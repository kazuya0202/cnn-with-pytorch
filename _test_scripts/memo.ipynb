{
 "nbformat": 4,
 "nbformat_minor": 2,
 "metadata": {
  "language_info": {
   "name": "python",
   "codemirror_mode": {
    "name": "ipython",
    "version": 3
   },
   "version": "3.7.4-final"
  },
  "orig_nbformat": 2,
  "file_extension": ".py",
  "mimetype": "text/x-python",
  "name": "python",
  "npconvert_exporter": "python",
  "pygments_lexer": "ipython3",
  "version": 3,
  "kernelspec": {
   "name": "python37464bit14b52b32e7a342f88c00cde63e5b39b5",
   "display_name": "Python 3.7.4 64-bit"
  }
 },
 "cells": [
  {
   "cell_type": "code",
   "execution_count": 9,
   "metadata": {},
   "outputs": [
    {
     "data": {
      "text/plain": "Net(\n  (conv1): Conv2d(3, 96, kernel_size=(7, 7), stride=(1, 1), padding=(3, 3))\n  (bn1): BatchNorm2d(96, eps=1e-05, momentum=0.1, affine=True, track_running_stats=True)\n  (conv2): Conv2d(96, 128, kernel_size=(5, 5), stride=(1, 1), padding=(2, 2))\n  (bn2): BatchNorm2d(128, eps=1e-05, momentum=0.1, affine=True, track_running_stats=True)\n  (conv3): Conv2d(128, 256, kernel_size=(3, 3), stride=(1, 1), padding=(1, 1))\n  (conv4): Conv2d(256, 384, kernel_size=(3, 3), stride=(1, 1), padding=(1, 1))\n  (conv5): Conv2d(384, 256, kernel_size=(3, 3), stride=(1, 1), padding=(1, 1))\n  (fc6): Linear(in_features=57600, out_features=2048, bias=True)\n  (fc7): Linear(in_features=2048, out_features=512, bias=True)\n  (fc8): Linear(in_features=512, out_features=3, bias=True)\n)"
     },
     "execution_count": 9,
     "metadata": {},
     "output_type": "execute_result"
    }
   ],
   "source": [
    "import cnn\n",
    "\n",
    "net = cnn.Net((60, 60)).to('cuda')\n",
    "net"
   ]
  },
  {
   "cell_type": "code",
   "execution_count": 6,
   "metadata": {},
   "outputs": [
    {
     "data": {
      "text/plain": "dict_keys(['training', '_parameters', '_buffers', '_backward_hooks', '_forward_hooks', '_forward_pre_hooks', '_state_dict_hooks', '_load_state_dict_pre_hooks', '_modules'])"
     },
     "execution_count": 6,
     "metadata": {},
     "output_type": "execute_result"
    }
   ],
   "source": [
    "net.__dict__.keys()"
   ]
  },
  {
   "cell_type": "code",
   "execution_count": 7,
   "metadata": {},
   "outputs": [
    {
     "data": {
      "text/plain": "OrderedDict([('conv1',\n              Conv2d(3, 96, kernel_size=(7, 7), stride=(1, 1), padding=(3, 3))),\n             ('bn1',\n              BatchNorm2d(96, eps=1e-05, momentum=0.1, affine=True, track_running_stats=True)),\n             ('conv2',\n              Conv2d(96, 128, kernel_size=(5, 5), stride=(1, 1), padding=(2, 2))),\n             ('bn2',\n              BatchNorm2d(128, eps=1e-05, momentum=0.1, affine=True, track_running_stats=True)),\n             ('conv3',\n              Conv2d(128, 256, kernel_size=(3, 3), stride=(1, 1), padding=(1, 1))),\n             ('conv4',\n              Conv2d(256, 384, kernel_size=(3, 3), stride=(1, 1), padding=(1, 1))),\n             ('conv5',\n              Conv2d(384, 256, kernel_size=(3, 3), stride=(1, 1), padding=(1, 1))),\n             ('fc6', Linear(in_features=57600, out_features=2048, bias=True)),\n             ('fc7', Linear(in_features=2048, out_features=512, bias=True)),\n             ('fc8', Linear(in_features=512, out_features=3, bias=True))])"
     },
     "execution_count": 7,
     "metadata": {},
     "output_type": "execute_result"
    }
   ],
   "source": [
    "net.__dict__['_modules']"
   ]
  },
  {
   "cell_type": "code",
   "execution_count": 10,
   "metadata": {},
   "outputs": [
    {
     "data": {
      "text/plain": "device(type='cuda', index=0)"
     },
     "execution_count": 10,
     "metadata": {},
     "output_type": "execute_result"
    }
   ],
   "source": [
    "device = next(net.parameters()).device\n",
    "\n",
    "device"
   ]
  },
  {
   "cell_type": "code",
   "execution_count": 14,
   "metadata": {},
   "outputs": [
    {
     "data": {
      "text/plain": "device(type='cpu')"
     },
     "execution_count": 14,
     "metadata": {},
     "output_type": "execute_result"
    }
   ],
   "source": [
    "new_net = cnn.Net((20, 20))\n",
    "new_net\n",
    "next(new_net.parameters()).device"
   ]
  }
 ]
}